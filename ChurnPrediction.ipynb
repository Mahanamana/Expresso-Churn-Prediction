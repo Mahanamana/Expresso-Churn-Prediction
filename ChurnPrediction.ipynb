{
 "cells": [
  {
   "cell_type": "markdown",
   "metadata": {},
   "source": [
    "## DSN Pre-Bootcamp Hackathon: Expresso Churn Prediction Challenge by Data Science Nigeria"
   ]
  },
  {
   "cell_type": "code",
   "execution_count": 1,
   "metadata": {
    "colab": {},
    "colab_type": "code",
    "id": "3arOHSJwCtNq"
   },
   "outputs": [
    {
     "name": "stderr",
     "output_type": "stream",
     "text": [
      "C:\\ProgramData\\Anaconda3\\lib\\site-packages\\statsmodels\\tools\\_testing.py:19: FutureWarning: pandas.util.testing is deprecated. Use the functions in the public API at pandas.testing instead.\n",
      "  import pandas.util.testing as tm\n"
     ]
    }
   ],
   "source": [
    "import pandas as pd\n",
    "import numpy as np\n",
    "from sklearn.preprocessing import LabelEncoder\n",
    "import warnings\n",
    "import seaborn as sns\n",
    "import matplotlib.pyplot as plt\n",
    "from sklearn.preprocessing import StandardScaler, RobustScaler\n",
    "import random\n",
    "warnings.filterwarnings(\"ignore\")\n",
    "warnings.simplefilter(action= 'ignore', category= FutureWarning)\n",
    "pd.set_option('display.max_columns', 200)\n",
    "\n",
    "SEED = 0\n",
    "\n",
    "random.seed(SEED)\n",
    "np.random.seed(SEED)"
   ]
  },
  {
   "cell_type": "markdown",
   "metadata": {},
   "source": [
    "## Load data"
   ]
  },
  {
   "cell_type": "code",
   "execution_count": 2,
   "metadata": {},
   "outputs": [
    {
     "name": "stdout",
     "output_type": "stream",
     "text": [
      "(400000, 19)\n"
     ]
    },
    {
     "data": {
      "text/html": [
       "<div>\n",
       "<style scoped>\n",
       "    .dataframe tbody tr th:only-of-type {\n",
       "        vertical-align: middle;\n",
       "    }\n",
       "\n",
       "    .dataframe tbody tr th {\n",
       "        vertical-align: top;\n",
       "    }\n",
       "\n",
       "    .dataframe thead th {\n",
       "        text-align: right;\n",
       "    }\n",
       "</style>\n",
       "<table border=\"1\" class=\"dataframe\">\n",
       "  <thead>\n",
       "    <tr style=\"text-align: right;\">\n",
       "      <th></th>\n",
       "      <th>user_id</th>\n",
       "      <th>REGION</th>\n",
       "      <th>TENURE</th>\n",
       "      <th>MONTANT</th>\n",
       "      <th>FREQUENCE_RECH</th>\n",
       "      <th>REVENUE</th>\n",
       "      <th>ARPU_SEGMENT</th>\n",
       "      <th>FREQUENCE</th>\n",
       "      <th>DATA_VOLUME</th>\n",
       "      <th>ON_NET</th>\n",
       "      <th>ORANGE</th>\n",
       "      <th>TIGO</th>\n",
       "      <th>ZONE1</th>\n",
       "      <th>ZONE2</th>\n",
       "      <th>MRG</th>\n",
       "      <th>REGULARITY</th>\n",
       "      <th>TOP_PACK</th>\n",
       "      <th>FREQ_TOP_PACK</th>\n",
       "      <th>CHURN</th>\n",
       "    </tr>\n",
       "  </thead>\n",
       "  <tbody>\n",
       "    <tr>\n",
       "      <th>0</th>\n",
       "      <td>dcf68cc2fb515ccad7d8b9b3bd80ee2a4b270063</td>\n",
       "      <td>SAINT-LOUIS</td>\n",
       "      <td>K &gt; 24 month</td>\n",
       "      <td>17000.0</td>\n",
       "      <td>32.0</td>\n",
       "      <td>18000.0</td>\n",
       "      <td>6000.0</td>\n",
       "      <td>34.0</td>\n",
       "      <td>NaN</td>\n",
       "      <td>97.0</td>\n",
       "      <td>355.0</td>\n",
       "      <td>6.0</td>\n",
       "      <td>NaN</td>\n",
       "      <td>NaN</td>\n",
       "      <td>NO</td>\n",
       "      <td>62</td>\n",
       "      <td>All-net 500F=2000F;5d</td>\n",
       "      <td>35.0</td>\n",
       "      <td>0</td>\n",
       "    </tr>\n",
       "    <tr>\n",
       "      <th>1</th>\n",
       "      <td>71c44b5ba328db5c4192a80f7cf8f244d9350ed0</td>\n",
       "      <td>NaN</td>\n",
       "      <td>K &gt; 24 month</td>\n",
       "      <td>4300.0</td>\n",
       "      <td>29.0</td>\n",
       "      <td>4427.0</td>\n",
       "      <td>1476.0</td>\n",
       "      <td>37.0</td>\n",
       "      <td>1764.0</td>\n",
       "      <td>8.0</td>\n",
       "      <td>3.0</td>\n",
       "      <td>0.0</td>\n",
       "      <td>NaN</td>\n",
       "      <td>2.0</td>\n",
       "      <td>NO</td>\n",
       "      <td>40</td>\n",
       "      <td>Data: 100 F=40MB,24H</td>\n",
       "      <td>22.0</td>\n",
       "      <td>0</td>\n",
       "    </tr>\n",
       "    <tr>\n",
       "      <th>2</th>\n",
       "      <td>ce46411b1526c94f20a383b8cb188f8d27f82a0a</td>\n",
       "      <td>TAMBACOUNDA</td>\n",
       "      <td>K &gt; 24 month</td>\n",
       "      <td>1500.0</td>\n",
       "      <td>3.0</td>\n",
       "      <td>1500.0</td>\n",
       "      <td>500.0</td>\n",
       "      <td>3.0</td>\n",
       "      <td>NaN</td>\n",
       "      <td>30.0</td>\n",
       "      <td>30.0</td>\n",
       "      <td>NaN</td>\n",
       "      <td>NaN</td>\n",
       "      <td>NaN</td>\n",
       "      <td>NO</td>\n",
       "      <td>32</td>\n",
       "      <td>All-net 500F=2000F;5d</td>\n",
       "      <td>3.0</td>\n",
       "      <td>0</td>\n",
       "    </tr>\n",
       "  </tbody>\n",
       "</table>\n",
       "</div>"
      ],
      "text/plain": [
       "                                    user_id       REGION        TENURE  \\\n",
       "0  dcf68cc2fb515ccad7d8b9b3bd80ee2a4b270063  SAINT-LOUIS  K > 24 month   \n",
       "1  71c44b5ba328db5c4192a80f7cf8f244d9350ed0          NaN  K > 24 month   \n",
       "2  ce46411b1526c94f20a383b8cb188f8d27f82a0a  TAMBACOUNDA  K > 24 month   \n",
       "\n",
       "   MONTANT  FREQUENCE_RECH  REVENUE  ARPU_SEGMENT  FREQUENCE  DATA_VOLUME  \\\n",
       "0  17000.0            32.0  18000.0        6000.0       34.0          NaN   \n",
       "1   4300.0            29.0   4427.0        1476.0       37.0       1764.0   \n",
       "2   1500.0             3.0   1500.0         500.0        3.0          NaN   \n",
       "\n",
       "   ON_NET  ORANGE  TIGO  ZONE1  ZONE2 MRG  REGULARITY               TOP_PACK  \\\n",
       "0    97.0   355.0   6.0    NaN    NaN  NO          62  All-net 500F=2000F;5d   \n",
       "1     8.0     3.0   0.0    NaN    2.0  NO          40   Data: 100 F=40MB,24H   \n",
       "2    30.0    30.0   NaN    NaN    NaN  NO          32  All-net 500F=2000F;5d   \n",
       "\n",
       "   FREQ_TOP_PACK  CHURN  \n",
       "0           35.0      0  \n",
       "1           22.0      0  \n",
       "2            3.0      0  "
      ]
     },
     "execution_count": 2,
     "metadata": {},
     "output_type": "execute_result"
    }
   ],
   "source": [
    "train = pd.read_csv('data/Train.csv')\n",
    "print(train.shape)\n",
    "train.head(3)"
   ]
  },
  {
   "cell_type": "code",
   "execution_count": 3,
   "metadata": {},
   "outputs": [
    {
     "data": {
      "image/png": "[encoded data removed]",
      "text/plain": [
       "<Figure size 432x288 with 1 Axes>"
      ]
     },
     "metadata": {
      "needs_background": "light"
     },
     "output_type": "display_data"
    }
   ],
   "source": [
    "train['CHURN'].value_counts().plot.bar(title= 'distribution CHURN')\n",
    "plt.show()"
   ]
  },
  {
   "cell_type": "code",
   "execution_count": 4,
   "metadata": {},
   "outputs": [
    {
     "data": {
      "image/png": "[encoded data removed]",
      "text/plain": [
       "<Figure size 432x288 with 1 Axes>"
      ]
     },
     "metadata": {
      "needs_background": "light"
     },
     "output_type": "display_data"
    }
   ],
   "source": [
    "train[['MONTANT', 'REVENUE']].plot.box(title= 'Check outlier')\n",
    "plt.show()"
   ]
  },
  {
   "cell_type": "code",
   "execution_count": 5,
   "metadata": {},
   "outputs": [
    {
     "name": "stdout",
     "output_type": "stream",
     "text": [
      "(100000, 18)\n"
     ]
    },
    {
     "data": {
      "text/html": [
       "<div>\n",
       "<style scoped>\n",
       "    .dataframe tbody tr th:only-of-type {\n",
       "        vertical-align: middle;\n",
       "    }\n",
       "\n",
       "    .dataframe tbody tr th {\n",
       "        vertical-align: top;\n",
       "    }\n",
       "\n",
       "    .dataframe thead th {\n",
       "        text-align: right;\n",
       "    }\n",
       "</style>\n",
       "<table border=\"1\" class=\"dataframe\">\n",
       "  <thead>\n",
       "    <tr style=\"text-align: right;\">\n",
       "      <th></th>\n",
       "      <th>user_id</th>\n",
       "      <th>REGION</th>\n",
       "      <th>TENURE</th>\n",
       "      <th>MONTANT</th>\n",
       "      <th>FREQUENCE_RECH</th>\n",
       "      <th>REVENUE</th>\n",
       "      <th>ARPU_SEGMENT</th>\n",
       "      <th>FREQUENCE</th>\n",
       "      <th>DATA_VOLUME</th>\n",
       "      <th>ON_NET</th>\n",
       "      <th>ORANGE</th>\n",
       "      <th>TIGO</th>\n",
       "      <th>ZONE1</th>\n",
       "      <th>ZONE2</th>\n",
       "      <th>MRG</th>\n",
       "      <th>REGULARITY</th>\n",
       "      <th>TOP_PACK</th>\n",
       "      <th>FREQ_TOP_PACK</th>\n",
       "    </tr>\n",
       "  </thead>\n",
       "  <tbody>\n",
       "    <tr>\n",
       "      <th>0</th>\n",
       "      <td>af900d87e73b7ff6509d2203df4704a98aa5f2a6</td>\n",
       "      <td>NaN</td>\n",
       "      <td>K &gt; 24 month</td>\n",
       "      <td>NaN</td>\n",
       "      <td>NaN</td>\n",
       "      <td>NaN</td>\n",
       "      <td>NaN</td>\n",
       "      <td>NaN</td>\n",
       "      <td>NaN</td>\n",
       "      <td>NaN</td>\n",
       "      <td>NaN</td>\n",
       "      <td>NaN</td>\n",
       "      <td>NaN</td>\n",
       "      <td>NaN</td>\n",
       "      <td>NO</td>\n",
       "      <td>1</td>\n",
       "      <td>NaN</td>\n",
       "      <td>NaN</td>\n",
       "    </tr>\n",
       "    <tr>\n",
       "      <th>1</th>\n",
       "      <td>5335efd940280b82143272275637d1e65d37eadb</td>\n",
       "      <td>NaN</td>\n",
       "      <td>K &gt; 24 month</td>\n",
       "      <td>NaN</td>\n",
       "      <td>NaN</td>\n",
       "      <td>10.0</td>\n",
       "      <td>3.0</td>\n",
       "      <td>1.0</td>\n",
       "      <td>NaN</td>\n",
       "      <td>NaN</td>\n",
       "      <td>NaN</td>\n",
       "      <td>NaN</td>\n",
       "      <td>NaN</td>\n",
       "      <td>NaN</td>\n",
       "      <td>NO</td>\n",
       "      <td>2</td>\n",
       "      <td>NaN</td>\n",
       "      <td>NaN</td>\n",
       "    </tr>\n",
       "    <tr>\n",
       "      <th>2</th>\n",
       "      <td>a581f4fa08677c26f83f643248c667e241043086</td>\n",
       "      <td>NaN</td>\n",
       "      <td>K &gt; 24 month</td>\n",
       "      <td>1900.0</td>\n",
       "      <td>15.0</td>\n",
       "      <td>2299.0</td>\n",
       "      <td>766.0</td>\n",
       "      <td>21.0</td>\n",
       "      <td>414.0</td>\n",
       "      <td>NaN</td>\n",
       "      <td>7.0</td>\n",
       "      <td>2.0</td>\n",
       "      <td>NaN</td>\n",
       "      <td>NaN</td>\n",
       "      <td>NO</td>\n",
       "      <td>27</td>\n",
       "      <td>Data: 100 F=40MB,24H</td>\n",
       "      <td>17.0</td>\n",
       "    </tr>\n",
       "  </tbody>\n",
       "</table>\n",
       "</div>"
      ],
      "text/plain": [
       "                                    user_id REGION        TENURE  MONTANT  \\\n",
       "0  af900d87e73b7ff6509d2203df4704a98aa5f2a6    NaN  K > 24 month      NaN   \n",
       "1  5335efd940280b82143272275637d1e65d37eadb    NaN  K > 24 month      NaN   \n",
       "2  a581f4fa08677c26f83f643248c667e241043086    NaN  K > 24 month   1900.0   \n",
       "\n",
       "   FREQUENCE_RECH  REVENUE  ARPU_SEGMENT  FREQUENCE  DATA_VOLUME  ON_NET  \\\n",
       "0             NaN      NaN           NaN        NaN          NaN     NaN   \n",
       "1             NaN     10.0           3.0        1.0          NaN     NaN   \n",
       "2            15.0   2299.0         766.0       21.0        414.0     NaN   \n",
       "\n",
       "   ORANGE  TIGO  ZONE1  ZONE2 MRG  REGULARITY              TOP_PACK  \\\n",
       "0     NaN   NaN    NaN    NaN  NO           1                   NaN   \n",
       "1     NaN   NaN    NaN    NaN  NO           2                   NaN   \n",
       "2     7.0   2.0    NaN    NaN  NO          27  Data: 100 F=40MB,24H   \n",
       "\n",
       "   FREQ_TOP_PACK  \n",
       "0            NaN  \n",
       "1            NaN  \n",
       "2           17.0  "
      ]
     },
     "execution_count": 5,
     "metadata": {},
     "output_type": "execute_result"
    }
   ],
   "source": [
    "test = pd.read_csv('data/Test.csv')\n",
    "print(test.shape)\n",
    "test.head(3)"
   ]
  },
  {
   "cell_type": "code",
   "execution_count": 6,
   "metadata": {
    "colab": {},
    "colab_type": "code",
    "id": "s3ZCXtzKDiDe"
   },
   "outputs": [],
   "source": [
    "submission = pd.read_csv('data/sample_submission.csv')"
   ]
  },
  {
   "cell_type": "markdown",
   "metadata": {},
   "source": [
    "## Correlation between CHURN"
   ]
  },
  {
   "cell_type": "code",
   "execution_count": 7,
   "metadata": {},
   "outputs": [
    {
     "data": {
      "image/png": "[encoded data removed]",
      "text/plain": [
       "<Figure size 1296x432 with 1 Axes>"
      ]
     },
     "metadata": {
      "needs_background": "light"
     },
     "output_type": "display_data"
    }
   ],
   "source": [
    "train.corr(method= 'spearman')['CHURN'].sort_values().plot(kind='bar', figsize=(18, 6))\n",
    "plt.show()"
   ]
  },
  {
   "cell_type": "code",
   "execution_count": 8,
   "metadata": {},
   "outputs": [
    {
     "data": {
      "text/html": [
       "<div>\n",
       "<style scoped>\n",
       "    .dataframe tbody tr th:only-of-type {\n",
       "        vertical-align: middle;\n",
       "    }\n",
       "\n",
       "    .dataframe tbody tr th {\n",
       "        vertical-align: top;\n",
       "    }\n",
       "\n",
       "    .dataframe thead th {\n",
       "        text-align: right;\n",
       "    }\n",
       "</style>\n",
       "<table border=\"1\" class=\"dataframe\">\n",
       "  <thead>\n",
       "    <tr style=\"text-align: right;\">\n",
       "      <th></th>\n",
       "      <th>user_id</th>\n",
       "      <th>REGION</th>\n",
       "      <th>TENURE</th>\n",
       "      <th>MONTANT</th>\n",
       "      <th>FREQUENCE_RECH</th>\n",
       "      <th>REVENUE</th>\n",
       "      <th>ARPU_SEGMENT</th>\n",
       "      <th>FREQUENCE</th>\n",
       "      <th>DATA_VOLUME</th>\n",
       "      <th>ON_NET</th>\n",
       "      <th>ORANGE</th>\n",
       "      <th>TIGO</th>\n",
       "      <th>ZONE1</th>\n",
       "      <th>ZONE2</th>\n",
       "      <th>MRG</th>\n",
       "      <th>REGULARITY</th>\n",
       "      <th>TOP_PACK</th>\n",
       "      <th>FREQ_TOP_PACK</th>\n",
       "      <th>CHURN</th>\n",
       "      <th>is_train</th>\n",
       "    </tr>\n",
       "  </thead>\n",
       "  <tbody>\n",
       "    <tr>\n",
       "      <th>99997</th>\n",
       "      <td>a2f84faffbc995bd0e2d726fa4ffdb93f11646ed</td>\n",
       "      <td>NaN</td>\n",
       "      <td>I 18-21 month</td>\n",
       "      <td>1800.0</td>\n",
       "      <td>7.0</td>\n",
       "      <td>1799.0</td>\n",
       "      <td>600.0</td>\n",
       "      <td>9.0</td>\n",
       "      <td>81.0</td>\n",
       "      <td>2.0</td>\n",
       "      <td>0.0</td>\n",
       "      <td>NaN</td>\n",
       "      <td>NaN</td>\n",
       "      <td>NaN</td>\n",
       "      <td>NO</td>\n",
       "      <td>60</td>\n",
       "      <td>Data:200F=Unlimited,24H</td>\n",
       "      <td>5.0</td>\n",
       "      <td>NaN</td>\n",
       "      <td>0</td>\n",
       "    </tr>\n",
       "    <tr>\n",
       "      <th>99998</th>\n",
       "      <td>afa76e894df4201fc77eb714de7d1f262299611a</td>\n",
       "      <td>THIES</td>\n",
       "      <td>K &gt; 24 month</td>\n",
       "      <td>2500.0</td>\n",
       "      <td>4.0</td>\n",
       "      <td>2515.0</td>\n",
       "      <td>838.0</td>\n",
       "      <td>4.0</td>\n",
       "      <td>NaN</td>\n",
       "      <td>43.0</td>\n",
       "      <td>106.0</td>\n",
       "      <td>4.0</td>\n",
       "      <td>NaN</td>\n",
       "      <td>NaN</td>\n",
       "      <td>NO</td>\n",
       "      <td>16</td>\n",
       "      <td>All-net 500F=2000F;5d</td>\n",
       "      <td>5.0</td>\n",
       "      <td>NaN</td>\n",
       "      <td>0</td>\n",
       "    </tr>\n",
       "    <tr>\n",
       "      <th>99999</th>\n",
       "      <td>c08a2d84b87c1f5d4bb318114f508b77aa8e2663</td>\n",
       "      <td>MATAM</td>\n",
       "      <td>K &gt; 24 month</td>\n",
       "      <td>NaN</td>\n",
       "      <td>NaN</td>\n",
       "      <td>NaN</td>\n",
       "      <td>NaN</td>\n",
       "      <td>NaN</td>\n",
       "      <td>NaN</td>\n",
       "      <td>NaN</td>\n",
       "      <td>NaN</td>\n",
       "      <td>NaN</td>\n",
       "      <td>NaN</td>\n",
       "      <td>NaN</td>\n",
       "      <td>NO</td>\n",
       "      <td>7</td>\n",
       "      <td>NaN</td>\n",
       "      <td>NaN</td>\n",
       "      <td>NaN</td>\n",
       "      <td>0</td>\n",
       "    </tr>\n",
       "  </tbody>\n",
       "</table>\n",
       "</div>"
      ],
      "text/plain": [
       "                                        user_id REGION         TENURE  \\\n",
       "99997  a2f84faffbc995bd0e2d726fa4ffdb93f11646ed    NaN  I 18-21 month   \n",
       "99998  afa76e894df4201fc77eb714de7d1f262299611a  THIES   K > 24 month   \n",
       "99999  c08a2d84b87c1f5d4bb318114f508b77aa8e2663  MATAM   K > 24 month   \n",
       "\n",
       "       MONTANT  FREQUENCE_RECH  REVENUE  ARPU_SEGMENT  FREQUENCE  DATA_VOLUME  \\\n",
       "99997   1800.0             7.0   1799.0         600.0        9.0         81.0   \n",
       "99998   2500.0             4.0   2515.0         838.0        4.0          NaN   \n",
       "99999      NaN             NaN      NaN           NaN        NaN          NaN   \n",
       "\n",
       "       ON_NET  ORANGE  TIGO  ZONE1  ZONE2 MRG  REGULARITY  \\\n",
       "99997     2.0     0.0   NaN    NaN    NaN  NO          60   \n",
       "99998    43.0   106.0   4.0    NaN    NaN  NO          16   \n",
       "99999     NaN     NaN   NaN    NaN    NaN  NO           7   \n",
       "\n",
       "                      TOP_PACK  FREQ_TOP_PACK  CHURN  is_train  \n",
       "99997  Data:200F=Unlimited,24H            5.0    NaN         0  \n",
       "99998    All-net 500F=2000F;5d            5.0    NaN         0  \n",
       "99999                      NaN            NaN    NaN         0  "
      ]
     },
     "execution_count": 8,
     "metadata": {},
     "output_type": "execute_result"
    }
   ],
   "source": [
    "train['is_train'] = 1\n",
    "test['is_train'] = 0\n",
    "\n",
    "all_data = pd.concat([train, test])\n",
    "all_data.tail(3)"
   ]
  },
  {
   "cell_type": "markdown",
   "metadata": {},
   "source": [
    "## Checking for NaN values"
   ]
  },
  {
   "cell_type": "code",
   "execution_count": 9,
   "metadata": {},
   "outputs": [
    {
     "data": {
      "text/plain": [
       "user_id           0.000000\n",
       "REGION            0.393626\n",
       "TENURE            0.000000\n",
       "MONTANT           0.350456\n",
       "FREQUENCE_RECH    0.350456\n",
       "REVENUE           0.336306\n",
       "ARPU_SEGMENT      0.336306\n",
       "FREQUENCE         0.336306\n",
       "DATA_VOLUME       0.492384\n",
       "ON_NET            0.364404\n",
       "ORANGE            0.415034\n",
       "TIGO              0.598348\n",
       "ZONE1             0.921260\n",
       "ZONE2             0.936130\n",
       "MRG               0.000000\n",
       "REGULARITY        0.000000\n",
       "TOP_PACK          0.418064\n",
       "FREQ_TOP_PACK     0.418064\n",
       "CHURN             0.200000\n",
       "is_train          0.000000\n",
       "dtype: float64"
      ]
     },
     "execution_count": 9,
     "metadata": {},
     "output_type": "execute_result"
    }
   ],
   "source": [
    "all_data.isnull().sum()/all_data.shape[0]"
   ]
  },
  {
   "cell_type": "code",
   "execution_count": 10,
   "metadata": {},
   "outputs": [
    {
     "data": {
      "text/plain": [
       "<matplotlib.axes._subplots.AxesSubplot at 0x1dc82cc9948>"
      ]
     },
     "execution_count": 10,
     "metadata": {},
     "output_type": "execute_result"
    },
    {
     "data": {
      "image/png": "[encoded data removed]",
      "text/plain": [
       "<Figure size 432x288 with 1 Axes>"
      ]
     },
     "metadata": {
      "needs_background": "light"
     },
     "output_type": "display_data"
    }
   ],
   "source": [
    "all_data['REGION'].value_counts().plot.bar()"
   ]
  },
  {
   "cell_type": "code",
   "execution_count": 11,
   "metadata": {},
   "outputs": [
    {
     "data": {
      "image/png": "[encoded data removed]",
      "text/plain": [
       "<Figure size 432x288 with 1 Axes>"
      ]
     },
     "metadata": {
      "needs_background": "light"
     },
     "output_type": "display_data"
    }
   ],
   "source": [
    "all_data['TENURE'].value_counts().plot.bar()\n",
    "plt.show()"
   ]
  },
  {
   "cell_type": "markdown",
   "metadata": {},
   "source": [
    "## Features Engineering"
   ]
  },
  {
   "cell_type": "code",
   "execution_count": 12,
   "metadata": {},
   "outputs": [],
   "source": [
    "#add dummies encoding for the features TENURE and REGION\n",
    "all_data = pd.concat([all_data, pd.get_dummies(all_data['TENURE'], prefix= 'TENURE', drop_first= True)], axis= 1)\n",
    "all_data = pd.concat([all_data, pd.get_dummies(all_data['REGION'], prefix= 'REGION', drop_first= True)], axis= 1)"
   ]
  },
  {
   "cell_type": "code",
   "execution_count": 13,
   "metadata": {},
   "outputs": [],
   "source": [
    "#add one hot encoding => REGION and count encoding for other categorical features\n",
    "all_data['REGION'] = all_data['REGION'].factorize()[0]\n",
    "all_data['TENURE'] = all_data['TENURE'].map(all_data['TENURE'].value_counts())\n",
    "all_data['TOP_PACK'] = all_data['TOP_PACK'].map(all_data['TOP_PACK'].value_counts())\n",
    "all_data['MRG'] = all_data['MRG'].map(all_data['MRG'].value_counts())"
   ]
  },
  {
   "cell_type": "code",
   "execution_count": 14,
   "metadata": {},
   "outputs": [],
   "source": [
    "all_data['TF'] = all_data['REGULARITY'] * all_data['FREQUENCE']\n",
    "all_data['MR'] = all_data['MONTANT'] - all_data['REVENUE']"
   ]
  },
  {
   "cell_type": "code",
   "execution_count": 15,
   "metadata": {},
   "outputs": [],
   "source": [
    "all_train = all_data.loc[all_data['is_train']==1]\n",
    "all_test = all_data.loc[all_data['is_train']==0]"
   ]
  },
  {
   "cell_type": "markdown",
   "metadata": {
    "colab_type": "text",
    "id": "qn9zHq0iqhA3"
   },
   "source": [
    "### Model"
   ]
  },
  {
   "cell_type": "code",
   "execution_count": 16,
   "metadata": {},
   "outputs": [],
   "source": [
    "from catboost import CatBoostClassifier\n",
    "from sklearn.metrics import auc, accuracy_score, confusion_matrix, mean_squared_error, log_loss\n",
    "from sklearn.model_selection import train_test_split, StratifiedKFold, KFold"
   ]
  },
  {
   "cell_type": "code",
   "execution_count": 17,
   "metadata": {},
   "outputs": [],
   "source": [
    "features = [c for c in all_train.columns if c not in ['CHURN', 'user_id', 'is_train']]"
   ]
  },
  {
   "cell_type": "code",
   "execution_count": 18,
   "metadata": {
    "scrolled": true
   },
   "outputs": [
    {
     "name": "stdout",
     "output_type": "stream",
     "text": [
      "fold n°:  1\n",
      "0:\tlearn: 0.5514671\ttest: 0.5509314\tbest: 0.5509314 (0)\ttotal: 104ms\tremaining: 52.1s\n",
      "100:\tlearn: 0.2516710\ttest: 0.2531028\tbest: 0.2531028 (100)\ttotal: 4.72s\tremaining: 18.6s\n",
      "200:\tlearn: 0.2499684\ttest: 0.2526482\tbest: 0.2526482 (200)\ttotal: 9.27s\tremaining: 13.8s\n",
      "300:\tlearn: 0.2486568\ttest: 0.2525002\tbest: 0.2524883 (287)\ttotal: 13.8s\tremaining: 9.12s\n",
      "400:\tlearn: 0.2475430\ttest: 0.2524757\tbest: 0.2524612 (372)\ttotal: 18.4s\tremaining: 4.53s\n",
      "499:\tlearn: 0.2465758\ttest: 0.2525615\tbest: 0.2524612 (372)\ttotal: 22.9s\tremaining: 0us\n",
      "\n",
      "bestTest = 0.2524612311\n",
      "bestIteration = 372\n",
      "\n",
      "Shrink model to first 373 iterations.\n",
      "log_loss train 0.24785617634598073\n",
      "log_loss test 0.2524612310601892\n",
      "fold n°:  2\n",
      "0:\tlearn: 0.5506893\ttest: 0.5510373\tbest: 0.5510373 (0)\ttotal: 52.7ms\tremaining: 26.3s\n",
      "100:\tlearn: 0.2519172\ttest: 0.2527085\tbest: 0.2527085 (100)\ttotal: 4.71s\tremaining: 18.6s\n",
      "200:\tlearn: 0.2503072\ttest: 0.2519471\tbest: 0.2519471 (200)\ttotal: 9.48s\tremaining: 14.1s\n",
      "300:\tlearn: 0.2490508\ttest: 0.2518224\tbest: 0.2518152 (289)\ttotal: 14.2s\tremaining: 9.41s\n",
      "400:\tlearn: 0.2479726\ttest: 0.2518173\tbest: 0.2517740 (326)\ttotal: 19s\tremaining: 4.7s\n",
      "499:\tlearn: 0.2470243\ttest: 0.2518321\tbest: 0.2517740 (326)\ttotal: 23.8s\tremaining: 0us\n",
      "\n",
      "bestTest = 0.2517740275\n",
      "bestIteration = 326\n",
      "\n",
      "Shrink model to first 327 iterations.\n",
      "log_loss train 0.24875485130923025\n",
      "log_loss test 0.25177402745470634\n",
      "fold n°:  3\n",
      "0:\tlearn: 0.5502393\ttest: 0.5504538\tbest: 0.5504538 (0)\ttotal: 46.6ms\tremaining: 23.2s\n",
      "100:\tlearn: 0.2518762\ttest: 0.2525350\tbest: 0.2525350 (100)\ttotal: 4.96s\tremaining: 19.6s\n",
      "200:\tlearn: 0.2502444\ttest: 0.2520054\tbest: 0.2520031 (199)\ttotal: 9.96s\tremaining: 14.8s\n",
      "300:\tlearn: 0.2489537\ttest: 0.2518463\tbest: 0.2518421 (290)\ttotal: 14.8s\tremaining: 9.78s\n",
      "400:\tlearn: 0.2479480\ttest: 0.2517827\tbest: 0.2517649 (392)\ttotal: 19.6s\tremaining: 4.85s\n",
      "499:\tlearn: 0.2470900\ttest: 0.2517896\tbest: 0.2517526 (448)\ttotal: 24.5s\tremaining: 0us\n",
      "\n",
      "bestTest = 0.2517525805\n",
      "bestIteration = 448\n",
      "\n",
      "Shrink model to first 449 iterations.\n",
      "log_loss train 0.2474955336077974\n",
      "log_loss test 0.25175258051584676\n",
      "Mean Log_loss test:  0.25199594634358075\n"
     ]
    },
    {
     "data": {
      "text/html": [
       "<div>\n",
       "<style scoped>\n",
       "    .dataframe tbody tr th:only-of-type {\n",
       "        vertical-align: middle;\n",
       "    }\n",
       "\n",
       "    .dataframe tbody tr th {\n",
       "        vertical-align: top;\n",
       "    }\n",
       "\n",
       "    .dataframe thead th {\n",
       "        text-align: right;\n",
       "    }\n",
       "</style>\n",
       "<table border=\"1\" class=\"dataframe\">\n",
       "  <thead>\n",
       "    <tr style=\"text-align: right;\">\n",
       "      <th></th>\n",
       "      <th>user_id</th>\n",
       "      <th>CHURN</th>\n",
       "    </tr>\n",
       "  </thead>\n",
       "  <tbody>\n",
       "    <tr>\n",
       "      <th>0</th>\n",
       "      <td>af900d87e73b7ff6509d2203df4704a98aa5f2a6</td>\n",
       "      <td>0.783827</td>\n",
       "    </tr>\n",
       "    <tr>\n",
       "      <th>1</th>\n",
       "      <td>5335efd940280b82143272275637d1e65d37eadb</td>\n",
       "      <td>0.661619</td>\n",
       "    </tr>\n",
       "    <tr>\n",
       "      <th>2</th>\n",
       "      <td>a581f4fa08677c26f83f643248c667e241043086</td>\n",
       "      <td>0.129923</td>\n",
       "    </tr>\n",
       "    <tr>\n",
       "      <th>3</th>\n",
       "      <td>64f67177d0775262b8087a9e2e3b8061b6324ae6</td>\n",
       "      <td>0.000752</td>\n",
       "    </tr>\n",
       "    <tr>\n",
       "      <th>4</th>\n",
       "      <td>0d6009a4594c4be22449b8d9cc01a0bcea98faea</td>\n",
       "      <td>0.000188</td>\n",
       "    </tr>\n",
       "  </tbody>\n",
       "</table>\n",
       "</div>"
      ],
      "text/plain": [
       "                                    user_id     CHURN\n",
       "0  af900d87e73b7ff6509d2203df4704a98aa5f2a6  0.783827\n",
       "1  5335efd940280b82143272275637d1e65d37eadb  0.661619\n",
       "2  a581f4fa08677c26f83f643248c667e241043086  0.129923\n",
       "3  64f67177d0775262b8087a9e2e3b8061b6324ae6  0.000752\n",
       "4  0d6009a4594c4be22449b8d9cc01a0bcea98faea  0.000188"
      ]
     },
     "execution_count": 18,
     "metadata": {},
     "output_type": "execute_result"
    }
   ],
   "source": [
    "err = list()\n",
    "    \n",
    "preds_df = pd.DataFrame()\n",
    "preds_df['user_id'] = all_test['user_id']\n",
    "preds_df['CHURN'] = np.zeros(len(all_test))\n",
    "\n",
    "fold = StratifiedKFold(n_splits= 3, shuffle= True, random_state= 0)\n",
    "\n",
    "i = 1\n",
    "\n",
    "#Standardize\n",
    "scaler = StandardScaler()\n",
    "\n",
    "for train_index, test_index in fold.split(all_train[features], all_train['CHURN']):\n",
    "\n",
    "    print('fold n°: ', i)\n",
    "\n",
    "    x_data, x_val = all_train[features].iloc[train_index], all_train[features].iloc[test_index]\n",
    "\n",
    "    y_data, y_val = all_train['CHURN'].iloc[train_index], all_train['CHURN'].iloc[test_index]\n",
    "        \n",
    "    #x_data, y_data = smote.fit_sample(x_data, y_data)\n",
    "    \n",
    "    scaler.fit(x_data)\n",
    "    \n",
    "    x_data = scaler.transform(x_data)\n",
    "    x_val = scaler.transform(x_val)\n",
    "    x_test = scaler.transform(all_test[features])\n",
    "    \n",
    "  \n",
    "    model = CatBoostClassifier(learning_rate= 0.10001, random_state= 0, num_trees= 500, max_depth= 5)\n",
    "    \n",
    "    model.fit(x_data, y_data, eval_set= [(x_val, y_val)], early_stopping_rounds= 300, verbose= 100)\n",
    "        \n",
    "    y_train_pred = model.predict_proba(x_data)\n",
    "\n",
    "    y_test_pred = model.predict_proba(x_val)\n",
    "        \n",
    "    print('log_loss train', log_loss(y_data, y_train_pred))\n",
    "    print('log_loss test', log_loss(y_val, y_test_pred))\n",
    "    \n",
    "    err.append(log_loss(y_val, y_test_pred))\n",
    "    \n",
    "    current_pred = model.predict_proba(x_test)[:,1]\n",
    "        \n",
    "    preds_df['CHURN'] += current_pred / fold.n_splits\n",
    "        \n",
    "    i = i + 1\n",
    "        \n",
    "print('Mean Log_loss test: ', np.mean(err))  \n",
    "\n",
    "preds_df.head()"
   ]
  },
  {
   "cell_type": "markdown",
   "metadata": {
    "colab_type": "text",
    "id": "W7NYpdx0nc4s"
   },
   "source": [
    "### Submit"
   ]
  },
  {
   "cell_type": "code",
   "execution_count": 19,
   "metadata": {
    "colab": {},
    "colab_type": "code",
    "id": "zgIYeYwzzP1B"
   },
   "outputs": [],
   "source": [
    "preds_df.to_csv('data/res/submission.csv', index= False)"
   ]
  },
  {
   "cell_type": "markdown",
   "metadata": {},
   "source": [
    "#### LB: 0.2467xxx"
   ]
  },
  {
   "cell_type": "markdown",
   "metadata": {},
   "source": [
    "## Note\n",
    "In this notebook, we just show the basic techniques to improve a Machine Learning model. However, more in-depth data analysis will be helpful to get a better result.\n",
    "### process included in the notebook\n",
    "- basic Exploratory Data Analysis\n",
    "- handle categorical features \n",
    "- basic  features engineering\n",
    "- cross validation\n",
    "\n",
    "### possible improvement\n",
    "- EDA improvement\n",
    "- handle outlier\n",
    "- features selection\n",
    "- Stacking method\n",
    "\n",
    "If you have any questions or suggestions do not hesitate to contact me on [linkedin](http://www.linkedin.com/in/mahanamana)"
   ]
  }
 ],
 "metadata": {
  "colab": {
   "collapsed_sections": [],
   "include_colab_link": true,
   "name": "Baseline1.ipynb",
   "provenance": []
  },
  "kernelspec": {
   "display_name": "Python 3",
   "language": "python",
   "name": "python3"
  },
  "language_info": {
   "codemirror_mode": {
    "name": "ipython",
    "version": 3
   },
   "file_extension": ".py",
   "mimetype": "text/x-python",
   "name": "python",
   "nbconvert_exporter": "python",
   "pygments_lexer": "ipython3",
   "version": "3.7.4"
  }
 },
 "nbformat": 4,
 "nbformat_minor": 1
}
